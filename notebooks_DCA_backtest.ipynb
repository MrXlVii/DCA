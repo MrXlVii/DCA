{
  "metadata": {
    "kernelspec": {
      "name": "python",
      "display_name": "Python (Pyodide)",
      "language": "python"
    },
    "language_info": {
      "codemirror_mode": {
        "name": "python",
        "version": 3
      },
      "file_extension": ".py",
      "mimetype": "text/x-python",
      "name": "python",
      "nbconvert_exporter": "python",
      "pygments_lexer": "ipython3",
      "version": "3.8"
    }
  },
  "nbformat_minor": 5,
  "nbformat": 4,
  "cells": [
    {
      "cell_type": "code",
      "source": "''' STEP 1: Initialize / Define '''\n\nimport pandas as pd\nimport numpy as np\nfrom itertools import islice\n\nfilename = 'BTCUSDT-1m-2022-07-11.csv' #plug in like 10 CSVs\ndataSet = pd.read_csv(filename,usecols=[0,1,2])\n\ndataSet = pd.DataFrame(dataSet)\ndata = dataSet.values.tolist()\n\n#print(data)\n\nperiod = 60 #one buy every hour\ncapital = 1440\nallowance = 120\ncurrent_allowance = 0\nhaveBought= False\n\nassets = []\n\ndef __init__(self, assets, period, capital, allowance, current_allowance, haveBought):\n    self.period = period\n    self.capital = capital\n    self.allowance = allowance\n    self.current_allowance = current_allowance\n    self.assets = assets\n    self.haveBought = haveBought\n\ndef window(seq, n=period):\n    \"Returns a sliding window (of width n) over data from the iterable\"\n    \"   s -> (s0,s1,...s[n-1]), (s1,s2,...,sn), ...                   \"\n    it = iter(seq)\n    result = list(islice(it, n))\n    arr = []\n    if len(result) == n:\n        arr.append(result)\n    for elem in it:\n        result = result[1:] + (elem,)\n        arr.append(result)\n    return arr\n        \ndef buy(currentAllowance, price):\n    amt = self.current_allowance/price\n    capital -= self.current_allowance\n    self.current_allowance = 0\n    self.assets.append(amt)\n    \n        \n        \n''' STEP 2: Calculate SMA '''\n\nSMA = []\n\ndef calculateSMA(prices):\n    print('\\nthe prices are: ',prices)\n    a = []\n    a.append(window(prices, period))\n    \n    #Need to convert to single dimensional\n    \n    for i in range(len(a)):\n        tmp = sum(a[i])/period\n        SMA.append(tmp)\n\n#print(data[:])  # can't do multi-dimensional slicing of lists \n\ni = 0\nj= 0\n\nfor i in range(len(data)):\n        if j==2: \n            calculateSMA(data[i][j])\nprint('\\nThe simple moving average is: ', SMA)\n\n'''STEP 3: Create the control group'''\n\ncontrol = []\ni = 0\n\nfor i in range(len(data)):\n    for j in range(len(data[i])):\n        if i%period == 0 and j == 2:\n            tmp= allowance/data[i][j] \n            control.append(tmp)\n\ncontrol = np.sum(control)\nprint('\\nThe amount of BTC bought via standard DCA was: ', control)\n\n''' STEP 4: Calculate Sigma '''\n\nsigma = []\nreturns = []\navgreturns = 0\n\ndef calculateSigma(prices):\n    ''' the formula is std = sqrt(mean(abs(x - x.mean())**2)) but there's a numpy function so I will do that '''\n    for i in range(len(prices)):\n        for j in range(len(prices[i])):\n            if j == 2:\n                calculateSMA(prices[i][j])\n    s = np.std(prices)\n    sigma.append(s)\n\n\n''' STEP 5: Buy Logic '''\nprint(len(data))\nprint(len(SMA))\n\nfor i in range(len(data)):\n    for j in range(len(data[i])):\n        if i%period == 0 and j == 2:\n            haveBought = False\n            if (SMA[i]- 2*sigma[i]) > data[i][2] and self.current_allowance > 0 and self.haveBought is False:\n                self.buy(current_allowance, price)\n                haveBought = True\n            else:\n                self.current_allowance += self.allowance\n                haveBought = False\n        elif j==2:\n            if (SMA[i]- 2*sigma[i]) > data[i][2] and self.current_allowance > 0 and self.haveBought is False:\n                self.buy(current_allowance, price)\n                haveBought = True\n            else:\n                self.current_allowance += self.allowance\n                haveBought = False\n        else: \n            continue\n       \n\n    \noutcome = sum(self.assets)\nreturn outcome, control, outcome > control\n        \n        \n        ",
      "metadata": {
        "trusted": true
      },
      "execution_count": 22,
      "outputs": [
        {
          "name": "stdout",
          "text": "\nThe simple moving average is:  []\n\nThe amount of BTC bought via standard DCA was:  0.1404760020922049\n1440\n0\n",
          "output_type": "stream"
        },
        {
          "ename": "<class 'IndexError'>",
          "evalue": "list index out of range",
          "traceback": [
            "\u001b[0;31m---------------------------------------------------------------------------\u001b[0m",
            "\u001b[0;31mIndexError\u001b[0m                                Traceback (most recent call last)",
            "Input \u001b[0;32mIn [22]\u001b[0m, in \u001b[0;36m<cell line: 111>\u001b[0;34m()\u001b[0m\n\u001b[1;32m    113\u001b[0m \u001b[38;5;28;01mif\u001b[39;00m i\u001b[38;5;241m%\u001b[39mperiod \u001b[38;5;241m==\u001b[39m \u001b[38;5;241m0\u001b[39m \u001b[38;5;129;01mand\u001b[39;00m j \u001b[38;5;241m==\u001b[39m \u001b[38;5;241m2\u001b[39m:\n\u001b[1;32m    114\u001b[0m     haveBought \u001b[38;5;241m=\u001b[39m \u001b[38;5;28;01mFalse\u001b[39;00m\n\u001b[0;32m--> 115\u001b[0m     \u001b[38;5;28;01mif\u001b[39;00m (\u001b[43mSMA\u001b[49m\u001b[43m[\u001b[49m\u001b[43mi\u001b[49m\u001b[43m]\u001b[49m\u001b[38;5;241m-\u001b[39m \u001b[38;5;241m2\u001b[39m\u001b[38;5;241m*\u001b[39msigma[i]) \u001b[38;5;241m>\u001b[39m data[i][\u001b[38;5;241m2\u001b[39m] \u001b[38;5;129;01mand\u001b[39;00m \u001b[38;5;28mself\u001b[39m\u001b[38;5;241m.\u001b[39mcurrent_allowance \u001b[38;5;241m>\u001b[39m \u001b[38;5;241m0\u001b[39m \u001b[38;5;129;01mand\u001b[39;00m \u001b[38;5;28mself\u001b[39m\u001b[38;5;241m.\u001b[39mhaveBought \u001b[38;5;129;01mis\u001b[39;00m \u001b[38;5;28;01mFalse\u001b[39;00m:\n\u001b[1;32m    116\u001b[0m         \u001b[38;5;28mself\u001b[39m\u001b[38;5;241m.\u001b[39mbuy(current_allowance, price)\n\u001b[1;32m    117\u001b[0m         haveBought \u001b[38;5;241m=\u001b[39m \u001b[38;5;28;01mTrue\u001b[39;00m\n",
            "\u001b[0;31mIndexError\u001b[0m: list index out of range"
          ],
          "output_type": "error"
        }
      ],
      "id": "81ffc38f-994c-48c1-96c4-dd2c8fc385d6"
    },
    {
      "cell_type": "code",
      "source": "",
      "metadata": {},
      "execution_count": null,
      "outputs": [],
      "id": "a17b6628-44f6-4ee1-b5ad-e643709edc74"
    }
  ]
}
